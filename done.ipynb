{
  "nbformat": 4,
  "nbformat_minor": 0,
  "metadata": {
    "colab": {
      "provenance": []
    },
    "kernelspec": {
      "name": "python3",
      "display_name": "Python 3"
    },
    "language_info": {
      "name": "python"
    }
  },
  "cells": [
    {
      "cell_type": "code",
      "execution_count": 17,
      "metadata": {
        "id": "cJiCN4CntzI3"
      },
      "outputs": [],
      "source": [
        "import os\n",
        "from os import listdir\n",
        "from PIL import Image\n",
        "from numpy import asarray\n",
        "from numpy import expand_dims\n",
        "from matplotlib import pyplot\n",
        "from keras.models import load_model\n",
        "import numpy as np\n",
        "import tensorflow as tf\n",
        "\n",
        "import pickle\n",
        "import cv2"
      ]
    },
    {
      "cell_type": "code",
      "source": [
        "HaarCascade = cv2.CascadeClassifier(cv2.samples.findFile(cv2.data.haarcascades + 'haarcascade_frontalface_default.xml'))"
      ],
      "metadata": {
        "id": "0F9UnbzJt0MG"
      },
      "execution_count": 18,
      "outputs": []
    },
    {
      "cell_type": "code",
      "source": [
        "pip install keras-facenet"
      ],
      "metadata": {
        "colab": {
          "base_uri": "https://localhost:8080/"
        },
        "id": "Uzq9amBZt8h-",
        "outputId": "ede74b95-7e10-4c73-c94c-d1024bc28684"
      },
      "execution_count": 19,
      "outputs": [
        {
          "output_type": "stream",
          "name": "stdout",
          "text": [
            "Requirement already satisfied: keras-facenet in /usr/local/lib/python3.10/dist-packages (0.3.2)\n",
            "Requirement already satisfied: mtcnn in /usr/local/lib/python3.10/dist-packages (from keras-facenet) (0.1.1)\n",
            "Requirement already satisfied: keras>=2.0.0 in /usr/local/lib/python3.10/dist-packages (from mtcnn->keras-facenet) (2.15.0)\n",
            "Requirement already satisfied: opencv-python>=4.1.0 in /usr/local/lib/python3.10/dist-packages (from mtcnn->keras-facenet) (4.8.0.76)\n",
            "Requirement already satisfied: numpy>=1.21.2 in /usr/local/lib/python3.10/dist-packages (from opencv-python>=4.1.0->mtcnn->keras-facenet) (1.23.5)\n"
          ]
        }
      ]
    },
    {
      "cell_type": "code",
      "source": [
        "import cv2"
      ],
      "metadata": {
        "id": "a_4piSiYw5la"
      },
      "execution_count": 20,
      "outputs": []
    },
    {
      "cell_type": "code",
      "source": [
        "from keras_facenet import FaceNet\n",
        "MyFaceNet = FaceNet()"
      ],
      "metadata": {
        "id": "ophc4nebt-qG"
      },
      "execution_count": 21,
      "outputs": []
    },
    {
      "cell_type": "code",
      "source": [
        "folder='/content/fotoPerserta/'\n",
        "database = {}\n",
        "\n",
        "for filename in listdir(folder):\n",
        "\n",
        "    path = folder + filename\n",
        "    gbr1 = cv2.imread(folder + filename)\n",
        "\n",
        "    wajah = HaarCascade.detectMultiScale(gbr1,1.1,4)\n",
        "\n",
        "    if len(wajah)>0:\n",
        "        x1, y1, width, height = wajah[0]\n",
        "    else:\n",
        "        x1, y1, width, height = 1, 1, 10, 10\n",
        "\n",
        "    x1, y1 = abs(x1), abs(y1)\n",
        "    x2, y2 = x1 + width, y1 + height\n",
        "\n",
        "    gbr = cv2.cvtColor(gbr1, cv2.COLOR_BGR2RGB)\n",
        "    gbr = Image.fromarray(gbr)                  # konversi dari OpenCV ke PIL\n",
        "    gbr_array = asarray(gbr)\n",
        "\n",
        "    face = gbr_array[y1:y2, x1:x2]\n",
        "\n",
        "    face = Image.fromarray(face)\n",
        "    face = face.resize((160,160))\n",
        "    face = asarray(face)\n",
        "\n",
        "\n",
        "\n",
        "    face = expand_dims(face, axis=0)\n",
        "    signature = MyFaceNet.embeddings(face)\n",
        "\n",
        "    database[os.path.splitext(filename)[0]]=signature"
      ],
      "metadata": {
        "colab": {
          "base_uri": "https://localhost:8080/"
        },
        "id": "eUjh7WxA84Jk",
        "outputId": "f1aba5a1-4934-4432-8cb2-f14c7a4356b3"
      },
      "execution_count": 22,
      "outputs": [
        {
          "output_type": "stream",
          "name": "stdout",
          "text": [
            "1/1 [==============================] - 2s 2s/step\n"
          ]
        }
      ]
    },
    {
      "cell_type": "code",
      "source": [
        "from IPython.display import display, Javascript\n",
        "from google.colab.output import eval_js\n",
        "from base64 import b64decode\n",
        "\n",
        "def take_photo(filename='photo.jpg', quality=0.8):\n",
        "  js = Javascript('''\n",
        "    async function takePhoto(quality) {\n",
        "      const div = document.createElement('div');\n",
        "      const capture = document.createElement('button');\n",
        "      capture.textContent = 'Capture';\n",
        "      div.appendChild(capture);\n",
        "\n",
        "      const video = document.createElement('video');\n",
        "      video.style.display = 'block';\n",
        "      const stream = await navigator.mediaDevices.getUserMedia({video: true});\n",
        "\n",
        "      document.body.appendChild(div);\n",
        "      div.appendChild(video);\n",
        "      video.srcObject = stream;\n",
        "      await video.play();\n",
        "\n",
        "      // Resize the output to fit the video element.\n",
        "      google.colab.output.setIframeHeight(document.documentElement.scrollHeight, true);\n",
        "\n",
        "      // Wait for Capture to be clicked.\n",
        "      await new Promise((resolve) => capture.onclick = resolve);\n",
        "\n",
        "      const canvas = document.createElement('canvas');\n",
        "      canvas.width = video.videoWidth;\n",
        "      canvas.height = video.videoHeight;\n",
        "      canvas.getContext('2d').drawImage(video, 0, 0);\n",
        "      stream.getVideoTracks()[0].stop();\n",
        "      div.remove();\n",
        "      return canvas.toDataURL('image/jpeg', quality);\n",
        "    }\n",
        "    ''')\n",
        "  display(js)\n",
        "  data = eval_js('takePhoto({})'.format(quality))\n",
        "\n",
        "  filename=findFaces(data)\n",
        "\n",
        "  return filename\n"
      ],
      "metadata": {
        "id": "MTF2XtcuuS6k"
      },
      "execution_count": 23,
      "outputs": []
    },
    {
      "cell_type": "code",
      "source": [
        "myfile = open(\"data.pkl\", \"wb\")\n",
        "pickle.dump(database, myfile)\n",
        "myfile.close()"
      ],
      "metadata": {
        "id": "PeUadPtZu7-a"
      },
      "execution_count": 24,
      "outputs": []
    },
    {
      "cell_type": "code",
      "source": [
        "myfile = open(\"data.pkl\", \"rb\")\n",
        "database = pickle.load(myfile)\n",
        "myfile.close()"
      ],
      "metadata": {
        "id": "qbux6b4RxX_x"
      },
      "execution_count": 25,
      "outputs": []
    },
    {
      "cell_type": "code",
      "source": [
        "def js_to_image(js_reply):\n",
        "  image_bytes = b64decode(js_reply.split(',')[1])\n",
        "  jpg_as_np = np.frombuffer(image_bytes, dtype=np.uint8)\n",
        "  img = cv2.imdecode(jpg_as_np, flags=1)\n",
        "  return img"
      ],
      "metadata": {
        "id": "Ia6FNWqZ3EyW"
      },
      "execution_count": 26,
      "outputs": []
    },
    {
      "cell_type": "code",
      "source": [
        "def findFaces(data):\n",
        "  gbr1 = js_to_image(data)\n",
        "  gbr = cv2.cvtColor(gbr1, cv2.COLOR_BGR2RGB)\n",
        "  gbr = Img.fromarray(gbr)                  # konversi dari OpenCV ke PIL\n",
        "  gbr_array = asarray(gbr)\n",
        "\n",
        "  wajah = HaarCascade.detectMultiScale(gbr1,1.1,4)\n",
        "\n",
        "  for (x1,y1,w,h) in wajah:\n",
        "      x1, y1 = abs(x1), abs(y1)\n",
        "      x2, y2 = x1 + w, y1 + h\n",
        "\n",
        "      face = gbr_array[y1:y2, x1:x2]\n",
        "\n",
        "      face = Img.fromarray(face)\n",
        "      face = face.resize((160,160))\n",
        "      face = asarray(face)\n",
        "\n",
        "\n",
        "\n",
        "      face = expand_dims(face, axis=0)\n",
        "      signature = MyFaceNet.embeddings(face)\n",
        "\n",
        "      min_dist=100\n",
        "      identity=' '\n",
        "      for key, value in database.items() :\n",
        "        dist = np.linalg.norm(value-signature)\n",
        "        if dist < min_dist:\n",
        "          min_dist = dist\n",
        "          identity = key\n",
        "\n",
        "      cv2.putText(gbr1,identity, (x1,y1),cv2.FONT_HERSHEY_SIMPLEX, 0.5, (255, 255, 0), 1, cv2.LINE_AA)\n",
        "      cv2.rectangle(gbr1,(x1,y1),(x2,y2), (0,255,0), 2)\n",
        "\n",
        "  filename='photo.jpg'\n",
        "  cv2.imwrite(filename, gbr1)\n",
        "\n",
        "  return filename"
      ],
      "metadata": {
        "id": "1rVefVV43GMq"
      },
      "execution_count": 27,
      "outputs": []
    },
    {
      "cell_type": "code",
      "source": [
        "import cv2\n",
        "from IPython.display import Image, display\n",
        "from PIL import Image as Img\n",
        "from numpy import asarray, expand_dims\n",
        "\n",
        "def findFaces(data):\n",
        "    gbr1 = js_to_image(data)\n",
        "    gbr = cv2.cvtColor(gbr1, cv2.COLOR_BGR2RGB)\n",
        "    gbr = Img.fromarray(gbr)\n",
        "    gbr_array = asarray(gbr)\n",
        "\n",
        "    wajah = HaarCascade.detectMultiScale(gbr1, 1.1, 4)\n",
        "\n",
        "    for (x1, y1, w, h) in wajah:\n",
        "        x1, y1 = abs(x1), abs(y1)\n",
        "        x2, y2 = x1 + w, y1 + h\n",
        "\n",
        "        face = gbr_array[y1:y2, x1:x2]\n",
        "\n",
        "        face = Img.fromarray(face)\n",
        "        face = face.resize((160, 160))\n",
        "        face = asarray(face)\n",
        "\n",
        "        face = expand_dims(face, axis=0)\n",
        "        signature = MyFaceNet.embeddings(face)\n",
        "\n",
        "        min_dist = 100\n",
        "        identity = ' '\n",
        "        for key, value in database.items():\n",
        "            dist = np.linalg.norm(value - signature)\n",
        "            if dist < min_dist:\n",
        "                min_dist = dist\n",
        "                identity = key\n",
        "\n",
        "        cv2.putText(gbr1, identity, (x1, y1), cv2.FONT_HERSHEY_SIMPLEX, 0.5, (255, 255, 0), 1, cv2.LINE_AA)\n",
        "        cv2.rectangle(gbr1, (x1, y1), (x2, y2), (0, 255, 0), 2)\n",
        "\n",
        "    filename = 'photo.jpg'\n",
        "    cv2.imwrite(filename, gbr1)\n",
        "\n",
        "    return filename\n",
        "\n",
        "# Initialize the video capture\n",
        "cap = cv2.VideoCapture(0)\n",
        "\n",
        "# Load the Haar cascade classifier\n",
        "HaarCascade = cv2.CascadeClassifier(cv2.data.haarcascades + 'haarcascade_frontalface_default.xml')\n",
        "\n",
        "# Check if the video capture is open\n",
        "if not cap.isOpened():\n",
        "    print(\"Error: Unable to open video capture.\")\n",
        "else:\n",
        "    while True:\n",
        "        # Read a frame from the video capture\n",
        "        ret, gbr1 = cap.read()\n",
        "\n",
        "        # Check if the frame is empty or if there's an error\n",
        "        if not ret:\n",
        "            print(\"Error: Unable to capture frame.\")\n",
        "            break\n",
        "\n",
        "        # Detect faces\n",
        "        filename = findFaces(gbr1)\n",
        "\n",
        "        # Display the image with detected faces\n",
        "        try:\n",
        "            print('Saved to {}'.format(filename))\n",
        "            display(Image(filename))\n",
        "        except Exception as err:\n",
        "            print(str(err))\n",
        "\n",
        "        # Break the loop if 'q' is pressed\n",
        "        if cv2.waitKey(5) & 0xFF == ord('q'):\n",
        "            break\n",
        "\n",
        "# Release the video capture and close the window\n",
        "cap.release()\n",
        "cv2.destroyAllWindows()\n"
      ],
      "metadata": {
        "id": "76y8sE2N2PIi",
        "outputId": "e3cbd95a-ac06-45ce-fda9-5eae8f287013",
        "colab": {
          "base_uri": "https://localhost:8080/"
        }
      },
      "execution_count": 31,
      "outputs": [
        {
          "output_type": "stream",
          "name": "stdout",
          "text": [
            "Error: Unable to open video capture.\n"
          ]
        }
      ]
    },
    {
      "cell_type": "code",
      "source": [
        "from IPython.display import display, Javascript\n",
        "from google.colab.output import eval_js\n",
        "from base64 import b64decode\n",
        "\n",
        "def take_photo(filename='photo.jpg', quality=0.8):\n",
        "  js = Javascript('''\n",
        "    async function takePhoto(quality) {\n",
        "      const div = document.createElement('div');\n",
        "      const capture = document.createElement('button');\n",
        "      capture.textContent = 'Capture';\n",
        "      div.appendChild(capture);\n",
        "\n",
        "      const video = document.createElement('video');\n",
        "      video.style.display = 'block';\n",
        "      const stream = await navigator.mediaDevices.getUserMedia({video: true});\n",
        "\n",
        "      document.body.appendChild(div);\n",
        "      div.appendChild(video);\n",
        "      video.srcObject = stream;\n",
        "      await video.play();\n",
        "\n",
        "      // Resize the output to fit the video element.\n",
        "      google.colab.output.setIframeHeight(document.documentElement.scrollHeight, true);\n",
        "\n",
        "      // Wait for Capture to be clicked.\n",
        "      await new Promise((resolve) => capture.onclick = resolve);\n",
        "\n",
        "      const canvas = document.createElement('canvas');\n",
        "      canvas.width = video.videoWidth;\n",
        "      canvas.height = video.videoHeight;\n",
        "      canvas.getContext('2d').drawImage(video, 0, 0);\n",
        "      stream.getVideoTracks()[0].stop();\n",
        "      div.remove();\n",
        "      return canvas.toDataURL('image/jpeg', quality);\n",
        "    }\n",
        "    ''')\n",
        "  display(js)\n",
        "  data = eval_js('takePhoto({})'.format(quality))\n",
        "\n",
        "  filename=findFaces(data)\n",
        "\n",
        "  return filename\n"
      ],
      "metadata": {
        "id": "4WBToGds3Tct"
      },
      "execution_count": 28,
      "outputs": []
    },
    {
      "cell_type": "code",
      "source": [
        "from IPython.display import Image\n",
        "\n",
        "try:\n",
        "    # Capture an image from the webcam\n",
        "    filename = take_photo()\n",
        "    print('Saved to {}'.format(filename))\n",
        "\n",
        "    # Detect faces in the captured image\n",
        "    detected_filename = findFaces(filename)\n",
        "\n",
        "    # Show the image with detected faces\n",
        "    display(Image(detected_filename))\n",
        "except Exception as err:\n",
        "    # Errors will be thrown if the user does not have a webcam or if they do not\n",
        "    # grant the page permission to access it.\n",
        "    print(str(err))\n"
      ],
      "metadata": {
        "id": "xAX3-CWL3ZeL"
      },
      "execution_count": null,
      "outputs": []
    },
    {
      "cell_type": "code",
      "source": [
        "from IPython.display import Image, display\n",
        "import cv2\n",
        "import os\n",
        "import webbrowser\n",
        "\n",
        "# Function to detect face using OpenCV\n",
        "def detect_face(image_path):\n",
        "    face_cascade = cv2.CascadeClassifier(cv2.data.haarcascades + 'haarcascade_frontalface_default.xml')\n",
        "    img = cv2.imread(image_path)\n",
        "    gray = cv2.cvtColor(img, cv2.COLOR_BGR2GRAY)\n",
        "    faces = face_cascade.detectMultiScale(gray, 1.1, 4)\n",
        "    if len(faces) > 0:\n",
        "        return True\n",
        "    return False\n",
        "\n",
        "try:\n",
        "    filename = take_photo()\n",
        "    print('Saved to {}'.format(filename))\n",
        "\n",
        "    # Show the image which was just taken.\n",
        "    display(Image(filename))\n",
        "\n",
        "    # Check if a face is detected\n",
        "    if detect_face(filename):\n",
        "        # Open Facebook URL\n",
        "        facebook_url = \"https://www.facebook.com\"\n",
        "        webbrowser.open_new_tab(facebook_url)\n",
        "        print(\"Opening Facebook profile...\")\n",
        "    else:\n",
        "        print(\"No face detected in the image. Cannot open Facebook profile.\")\n",
        "except Exception as err:\n",
        "    # Errors will be thrown if the user does not have a webcam or if they do not\n",
        "    # grant the page permission to access it.\n",
        "    print(str(err))\n"
      ],
      "metadata": {
        "id": "w3kECAM5ATX1",
        "colab": {
          "base_uri": "https://localhost:8080/",
          "height": 532
        },
        "outputId": "b4d74d92-a335-4570-ea4e-9b7a2b97d139"
      },
      "execution_count": 30,
      "outputs": [
        {
          "output_type": "display_data",
          "data": {
            "text/plain": [
              "<IPython.core.display.Javascript object>"
            ],
            "application/javascript": [
              "\n",
              "    async function takePhoto(quality) {\n",
              "      const div = document.createElement('div');\n",
              "      const capture = document.createElement('button');\n",
              "      capture.textContent = 'Capture';\n",
              "      div.appendChild(capture);\n",
              "\n",
              "      const video = document.createElement('video');\n",
              "      video.style.display = 'block';\n",
              "      const stream = await navigator.mediaDevices.getUserMedia({video: true});\n",
              "\n",
              "      document.body.appendChild(div);\n",
              "      div.appendChild(video);\n",
              "      video.srcObject = stream;\n",
              "      await video.play();\n",
              "\n",
              "      // Resize the output to fit the video element.\n",
              "      google.colab.output.setIframeHeight(document.documentElement.scrollHeight, true);\n",
              "\n",
              "      // Wait for Capture to be clicked.\n",
              "      await new Promise((resolve) => capture.onclick = resolve);\n",
              "\n",
              "      const canvas = document.createElement('canvas');\n",
              "      canvas.width = video.videoWidth;\n",
              "      canvas.height = video.videoHeight;\n",
              "      canvas.getContext('2d').drawImage(video, 0, 0);\n",
              "      stream.getVideoTracks()[0].stop();\n",
              "      div.remove();\n",
              "      return canvas.toDataURL('image/jpeg', quality);\n",
              "    }\n",
              "    "
            ]
          },
          "metadata": {}
        },
        {
          "output_type": "stream",
          "name": "stdout",
          "text": [
            "Saved to photo.jpg\n"
          ]
        },
        {
          "output_type": "display_data",
          "data": {
            "image/jpeg": "[encoded data removed]",
            "text/plain": [
              "<IPython.core.display.Image object>"
            ]
          },
          "metadata": {}
        },
        {
          "output_type": "stream",
          "name": "stdout",
          "text": [
            "No face detected in the image. Cannot open Facebook profile.\n"
          ]
        }
      ]
    }
  ]
}